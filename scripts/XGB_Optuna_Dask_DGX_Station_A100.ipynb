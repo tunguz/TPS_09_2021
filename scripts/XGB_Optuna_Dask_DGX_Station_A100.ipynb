{
 "cells": [
  {
   "cell_type": "code",
   "execution_count": 1,
   "id": "86dac69f-71a0-44b1-8f55-03ef3ad2be74",
   "metadata": {},
   "outputs": [],
   "source": [
    "import os\n",
    "#os.environ[\"CUDA_DEVICE_ORDER\"]=\"PCI_BUS_ID\"\n",
    "#os.environ[\"CUDA_VISIBLE_DEVICES\"]=\"0, 1, 2, 4\""
   ]
  },
  {
   "cell_type": "code",
   "execution_count": 2,
   "id": "498aa81c-648a-489e-a033-d4de4738a2c9",
   "metadata": {},
   "outputs": [
    {
     "name": "stderr",
     "output_type": "stream",
     "text": [
      "/home/tunguz/.local/lib/python3.8/site-packages/tqdm/auto.py:22: TqdmWarning: IProgress not found. Please update jupyter and ipywidgets. See https://ipywidgets.readthedocs.io/en/stable/user_install.html\n",
      "  from .autonotebook import tqdm as notebook_tqdm\n"
     ]
    },
    {
     "data": {
      "text/plain": [
       "'1.6.0rc1'"
      ]
     },
     "execution_count": 2,
     "metadata": {},
     "output_type": "execute_result"
    }
   ],
   "source": [
    "from dask.distributed import Client\n",
    "from dask_cuda import LocalCUDACluster\n",
    "from dask import dataframe as dd\n",
    "import pandas as pd\n",
    "import xgboost as xgb\n",
    "from sklearn.model_selection import KFold, train_test_split\n",
    "from sklearn.metrics import roc_auc_score\n",
    "import optuna\n",
    "import gc\n",
    "xgb.__version__"
   ]
  },
  {
   "cell_type": "code",
   "execution_count": 3,
   "id": "aa988033-b790-495a-8d53-df67bf290d3a",
   "metadata": {},
   "outputs": [],
   "source": [
    "train_x = dd.read_csv('../../TPS_2021/input/tabular-playground-series-sep-2021/xgtrain.csv')\n",
    "test_x = dd.read_csv('../../TPS_2021/input/tabular-playground-series-sep-2021/xgval.csv')"
   ]
  },
  {
   "cell_type": "code",
   "execution_count": 4,
   "id": "ab21431c-d336-4802-8855-cc594d40e83f",
   "metadata": {},
   "outputs": [],
   "source": [
    "train_y = train_x['target']\n",
    "train_x = train_x[train_x.columns.difference(['target'])]\n",
    "\n",
    "test_y = test_x['target']\n",
    "test_x = test_x[test_x.columns.difference(['target'])]"
   ]
  },
  {
   "cell_type": "code",
   "execution_count": 5,
   "id": "08b84a6b-16d9-44b3-826e-44bda6711361",
   "metadata": {},
   "outputs": [
    {
     "name": "stderr",
     "output_type": "stream",
     "text": [
      "2022-05-06 12:54:25,562 - distributed.preloading - INFO - Import preload module: dask_cuda.initialize\n",
      "2022-05-06 12:54:25,619 - distributed.preloading - INFO - Import preload module: dask_cuda.initialize\n",
      "2022-05-06 12:54:25,619 - distributed.preloading - INFO - Import preload module: dask_cuda.initialize\n",
      "2022-05-06 12:54:25,640 - distributed.preloading - INFO - Import preload module: dask_cuda.initialize\n"
     ]
    }
   ],
   "source": [
    "cluster = LocalCUDACluster(CUDA_VISIBLE_DEVICES=[\"GPU-a19c00c3-2832-fe38-1c43-c18db3e909da\",\n",
    "                                                 \"GPU-58b97c92-e879-49d3-85b5-1d9615f10873\",\n",
    "                                                 \"GPU-d21cfed4-2e1a-f313-839c-ea008aca027a\",\n",
    "                                                 \"GPU-e3b349d7-ac6c-77ab-3564-ed9d05d50bac\"])\n",
    "client = Client(cluster)"
   ]
  },
  {
   "cell_type": "code",
   "execution_count": 6,
   "id": "752f0ce3-2ef7-4249-ae6a-b71adb469736",
   "metadata": {},
   "outputs": [
    {
     "data": {
      "text/html": [
       "<div>\n",
       "<style scoped>\n",
       "    .dataframe tbody tr th:only-of-type {\n",
       "        vertical-align: middle;\n",
       "    }\n",
       "\n",
       "    .dataframe tbody tr th {\n",
       "        vertical-align: top;\n",
       "    }\n",
       "\n",
       "    .dataframe thead th {\n",
       "        text-align: right;\n",
       "    }\n",
       "</style>\n",
       "<table border=\"1\" class=\"dataframe\">\n",
       "  <thead>\n",
       "    <tr style=\"text-align: right;\">\n",
       "      <th></th>\n",
       "      <th>f1</th>\n",
       "      <th>f10</th>\n",
       "      <th>f100</th>\n",
       "      <th>f101</th>\n",
       "      <th>f102</th>\n",
       "      <th>f103</th>\n",
       "      <th>f104</th>\n",
       "      <th>f105</th>\n",
       "      <th>f106</th>\n",
       "      <th>f107</th>\n",
       "      <th>...</th>\n",
       "      <th>f90</th>\n",
       "      <th>f91</th>\n",
       "      <th>f92</th>\n",
       "      <th>f93</th>\n",
       "      <th>f94</th>\n",
       "      <th>f95</th>\n",
       "      <th>f96</th>\n",
       "      <th>f97</th>\n",
       "      <th>f98</th>\n",
       "      <th>f99</th>\n",
       "    </tr>\n",
       "  </thead>\n",
       "  <tbody>\n",
       "    <tr>\n",
       "      <th>0</th>\n",
       "      <td>0.872615</td>\n",
       "      <td>-0.147912</td>\n",
       "      <td>0.315128</td>\n",
       "      <td>0.557139</td>\n",
       "      <td>-0.241808</td>\n",
       "      <td>-0.151454</td>\n",
       "      <td>0.890242</td>\n",
       "      <td>0.710130</td>\n",
       "      <td>1.357901</td>\n",
       "      <td>0.166360</td>\n",
       "      <td>...</td>\n",
       "      <td>0.442751</td>\n",
       "      <td>-2.865241</td>\n",
       "      <td>1.854788</td>\n",
       "      <td>-0.634225</td>\n",
       "      <td>0.167534</td>\n",
       "      <td>1.108749</td>\n",
       "      <td>-0.005678</td>\n",
       "      <td>-0.173913</td>\n",
       "      <td>-0.276507</td>\n",
       "      <td>-0.001903</td>\n",
       "    </tr>\n",
       "    <tr>\n",
       "      <th>1</th>\n",
       "      <td>-0.220001</td>\n",
       "      <td>-0.225827</td>\n",
       "      <td>-0.102546</td>\n",
       "      <td>0.390172</td>\n",
       "      <td>0.266328</td>\n",
       "      <td>0.271725</td>\n",
       "      <td>0.254364</td>\n",
       "      <td>-0.748292</td>\n",
       "      <td>0.166147</td>\n",
       "      <td>-0.161530</td>\n",
       "      <td>...</td>\n",
       "      <td>0.138979</td>\n",
       "      <td>-0.807670</td>\n",
       "      <td>1.880417</td>\n",
       "      <td>0.103766</td>\n",
       "      <td>0.216737</td>\n",
       "      <td>-0.208940</td>\n",
       "      <td>0.807075</td>\n",
       "      <td>0.017391</td>\n",
       "      <td>-0.281889</td>\n",
       "      <td>-0.483251</td>\n",
       "    </tr>\n",
       "    <tr>\n",
       "      <th>2</th>\n",
       "      <td>0.874560</td>\n",
       "      <td>-0.031575</td>\n",
       "      <td>-1.065833</td>\n",
       "      <td>0.082266</td>\n",
       "      <td>-0.404141</td>\n",
       "      <td>-0.124296</td>\n",
       "      <td>-0.210196</td>\n",
       "      <td>-0.144495</td>\n",
       "      <td>-0.259467</td>\n",
       "      <td>0.504897</td>\n",
       "      <td>...</td>\n",
       "      <td>0.092490</td>\n",
       "      <td>0.427859</td>\n",
       "      <td>0.201527</td>\n",
       "      <td>-0.353750</td>\n",
       "      <td>0.658368</td>\n",
       "      <td>0.631307</td>\n",
       "      <td>-0.197037</td>\n",
       "      <td>-0.460870</td>\n",
       "      <td>1.096485</td>\n",
       "      <td>-0.106585</td>\n",
       "    </tr>\n",
       "    <tr>\n",
       "      <th>3</th>\n",
       "      <td>-0.586468</td>\n",
       "      <td>0.569328</td>\n",
       "      <td>0.795074</td>\n",
       "      <td>-0.150262</td>\n",
       "      <td>1.174618</td>\n",
       "      <td>-0.068845</td>\n",
       "      <td>-0.256327</td>\n",
       "      <td>0.746887</td>\n",
       "      <td>1.405473</td>\n",
       "      <td>0.617058</td>\n",
       "      <td>...</td>\n",
       "      <td>-0.410961</td>\n",
       "      <td>0.173439</td>\n",
       "      <td>2.067397</td>\n",
       "      <td>0.082642</td>\n",
       "      <td>1.151074</td>\n",
       "      <td>-0.218919</td>\n",
       "      <td>-0.249827</td>\n",
       "      <td>-0.582609</td>\n",
       "      <td>-0.255763</td>\n",
       "      <td>0.917016</td>\n",
       "    </tr>\n",
       "    <tr>\n",
       "      <th>4</th>\n",
       "      <td>-0.704799</td>\n",
       "      <td>-0.169111</td>\n",
       "      <td>0.223030</td>\n",
       "      <td>-0.409437</td>\n",
       "      <td>1.530684</td>\n",
       "      <td>0.106552</td>\n",
       "      <td>0.248217</td>\n",
       "      <td>NaN</td>\n",
       "      <td>2.499167</td>\n",
       "      <td>-0.405990</td>\n",
       "      <td>...</td>\n",
       "      <td>-0.574557</td>\n",
       "      <td>-1.221557</td>\n",
       "      <td>5.860248</td>\n",
       "      <td>1.387319</td>\n",
       "      <td>-0.205065</td>\n",
       "      <td>1.830290</td>\n",
       "      <td>-0.072589</td>\n",
       "      <td>1.147826</td>\n",
       "      <td>0.180360</td>\n",
       "      <td>4.334793</td>\n",
       "    </tr>\n",
       "  </tbody>\n",
       "</table>\n",
       "<p>5 rows × 118 columns</p>\n",
       "</div>"
      ],
      "text/plain": [
       "         f1       f10      f100      f101      f102      f103      f104  \\\n",
       "0  0.872615 -0.147912  0.315128  0.557139 -0.241808 -0.151454  0.890242   \n",
       "1 -0.220001 -0.225827 -0.102546  0.390172  0.266328  0.271725  0.254364   \n",
       "2  0.874560 -0.031575 -1.065833  0.082266 -0.404141 -0.124296 -0.210196   \n",
       "3 -0.586468  0.569328  0.795074 -0.150262  1.174618 -0.068845 -0.256327   \n",
       "4 -0.704799 -0.169111  0.223030 -0.409437  1.530684  0.106552  0.248217   \n",
       "\n",
       "       f105      f106      f107  ...       f90       f91       f92       f93  \\\n",
       "0  0.710130  1.357901  0.166360  ...  0.442751 -2.865241  1.854788 -0.634225   \n",
       "1 -0.748292  0.166147 -0.161530  ...  0.138979 -0.807670  1.880417  0.103766   \n",
       "2 -0.144495 -0.259467  0.504897  ...  0.092490  0.427859  0.201527 -0.353750   \n",
       "3  0.746887  1.405473  0.617058  ... -0.410961  0.173439  2.067397  0.082642   \n",
       "4       NaN  2.499167 -0.405990  ... -0.574557 -1.221557  5.860248  1.387319   \n",
       "\n",
       "        f94       f95       f96       f97       f98       f99  \n",
       "0  0.167534  1.108749 -0.005678 -0.173913 -0.276507 -0.001903  \n",
       "1  0.216737 -0.208940  0.807075  0.017391 -0.281889 -0.483251  \n",
       "2  0.658368  0.631307 -0.197037 -0.460870  1.096485 -0.106585  \n",
       "3  1.151074 -0.218919 -0.249827 -0.582609 -0.255763  0.917016  \n",
       "4 -0.205065  1.830290 -0.072589  1.147826  0.180360  4.334793  \n",
       "\n",
       "[5 rows x 118 columns]"
      ]
     },
     "execution_count": 6,
     "metadata": {},
     "output_type": "execute_result"
    }
   ],
   "source": [
    "train_x.head()"
   ]
  },
  {
   "cell_type": "code",
   "execution_count": 7,
   "id": "1e566b0e-5442-4790-902e-a38e5c0b7ff3",
   "metadata": {},
   "outputs": [],
   "source": [
    "dtrain = xgb.dask.DaskDMatrix(client, train_x, train_y)\n",
    "dtest = xgb.dask.DaskDMatrix(client, test_x, test_y)\n",
    "num_round = 1000"
   ]
  },
  {
   "cell_type": "code",
   "execution_count": 8,
   "id": "80454e8f-58e4-46dc-82e7-d66a21778c68",
   "metadata": {},
   "outputs": [],
   "source": [
    "def objective(trial):\n",
    "        \n",
    "    params = {\n",
    "        'objective': trial.suggest_categorical('objective',['binary:logistic']), \n",
    "        'tree_method': trial.suggest_categorical('tree_method',['gpu_hist']),  # 'gpu_hist','hist'\n",
    "        'lambda': trial.suggest_loguniform('lambda',1e-3,10.0),\n",
    "        'alpha': trial.suggest_loguniform('alpha',1e-3,10.0),\n",
    "        'colsample_bytree': trial.suggest_uniform('colsample_bytree', 0.3,1.0),\n",
    "        'subsample': trial.suggest_uniform('subsample', 0.4, 1.0),\n",
    "        'learning_rate': trial.suggest_loguniform('learning_rate', 0.001,0.1),\n",
    "        #'n_estimators': trial.suggest_categorical('n_estimators', [1000]),\n",
    "        'max_depth': trial.suggest_categorical('max_depth', [3,5,7,9,11,13,15,17,20]),\n",
    "        #'random_state': trial.suggest_categorical('random_state', [24,48,2020]),\n",
    "        'min_child_weight': trial.suggest_int('min_child_weight', 1,300),\n",
    "        'eval_metric': trial.suggest_categorical('eval_metric',['logloss']),\n",
    "\n",
    "    }\n",
    "\n",
    "    output = xgb.dask.train(client, params, dtrain, num_round)\n",
    "    \n",
    "    booster = output['booster']  # booster is the trained model\n",
    "    booster.set_param({'predictor': 'gpu_predictor'})\n",
    "\n",
    "    predictions = xgb.dask.predict(client, booster, dtest)\n",
    "    \n",
    "    predictions = predictions.compute()\n",
    "\n",
    "    roc = roc_auc_score(test_y, predictions)\n",
    "    \n",
    "    return roc"
   ]
  },
  {
   "cell_type": "code",
   "execution_count": 9,
   "id": "c2c7f0c8-06b4-4339-882b-92bcd41b002c",
   "metadata": {},
   "outputs": [
    {
     "name": "stderr",
     "output_type": "stream",
     "text": [
      "\u001b[32m[I 2022-05-06 13:03:33,733]\u001b[0m A new study created in memory with name: no-name-d2c31bb4-57bb-4a9c-b3ea-f62f455e0615\u001b[0m\n"
     ]
    }
   ],
   "source": [
    "study = optuna.create_study(direction='maximize')"
   ]
  },
  {
   "cell_type": "code",
   "execution_count": 10,
   "id": "4f5b2fce-7a7d-4953-b924-21114de08f36",
   "metadata": {},
   "outputs": [
    {
     "name": "stderr",
     "output_type": "stream",
     "text": [
      "[13:03:47] task [xgboost.dask]:tcp://127.0.0.1:33229 got new rank 0\n",
      "[13:03:47] task [xgboost.dask]:tcp://127.0.0.1:42061 got new rank 1\n",
      "[13:03:47] task [xgboost.dask]:tcp://127.0.0.1:35597 got new rank 2\n",
      "[13:03:47] task [xgboost.dask]:tcp://127.0.0.1:35527 got new rank 3\n",
      "\u001b[32m[I 2022-05-06 13:04:05,012]\u001b[0m Trial 0 finished with value: 0.7985885603265515 and parameters: {'objective': 'binary:logistic', 'tree_method': 'gpu_hist', 'lambda': 0.00473394785130864, 'alpha': 0.013282211872668299, 'colsample_bytree': 0.4880556065992996, 'subsample': 0.4763951436523317, 'learning_rate': 0.008626717298421183, 'max_depth': 13, 'min_child_weight': 185, 'eval_metric': 'logloss'}. Best is trial 0 with value: 0.7985885603265515.\u001b[0m\n",
      "[13:04:05] task [xgboost.dask]:tcp://127.0.0.1:42061 got new rank 0\n",
      "[13:04:05] task [xgboost.dask]:tcp://127.0.0.1:35527 got new rank 1\n",
      "[13:04:05] task [xgboost.dask]:tcp://127.0.0.1:33229 got new rank 2\n",
      "[13:04:05] task [xgboost.dask]:tcp://127.0.0.1:35597 got new rank 3\n",
      "\u001b[32m[I 2022-05-06 13:05:50,124]\u001b[0m Trial 1 finished with value: 0.7965304352770538 and parameters: {'objective': 'binary:logistic', 'tree_method': 'gpu_hist', 'lambda': 0.7404956938888073, 'alpha': 0.006045484975650116, 'colsample_bytree': 0.7719379741117223, 'subsample': 0.9342853923218525, 'learning_rate': 0.06287786992257642, 'max_depth': 17, 'min_child_weight': 53, 'eval_metric': 'logloss'}. Best is trial 0 with value: 0.7985885603265515.\u001b[0m\n"
     ]
    },
    {
     "name": "stdout",
     "output_type": "stream",
     "text": [
      "CPU times: user 13.7 s, sys: 7.85 s, total: 21.5 s\n",
      "Wall time: 2min 3s\n"
     ]
    }
   ],
   "source": [
    "%%time\n",
    "study.optimize(objective, n_trials=2)"
   ]
  },
  {
   "cell_type": "code",
   "execution_count": 11,
   "id": "0c7b9d53-d691-402f-be70-b52d465b5f6d",
   "metadata": {},
   "outputs": [
    {
     "name": "stderr",
     "output_type": "stream",
     "text": [
      "[13:05:50] task [xgboost.dask]:tcp://127.0.0.1:42061 got new rank 0\n",
      "[13:05:50] task [xgboost.dask]:tcp://127.0.0.1:35597 got new rank 1\n",
      "[13:05:50] task [xgboost.dask]:tcp://127.0.0.1:35527 got new rank 2\n",
      "[13:05:50] task [xgboost.dask]:tcp://127.0.0.1:33229 got new rank 3\n",
      "\u001b[32m[I 2022-05-06 13:06:04,907]\u001b[0m Trial 2 finished with value: 0.8004811474165013 and parameters: {'objective': 'binary:logistic', 'tree_method': 'gpu_hist', 'lambda': 0.5327228319645178, 'alpha': 0.35458379690653347, 'colsample_bytree': 0.8355933673686449, 'subsample': 0.521253313155127, 'learning_rate': 0.01648251416545129, 'max_depth': 9, 'min_child_weight': 193, 'eval_metric': 'logloss'}. Best is trial 2 with value: 0.8004811474165013.\u001b[0m\n",
      "[13:06:04] task [xgboost.dask]:tcp://127.0.0.1:35527 got new rank 0\n",
      "[13:06:04] task [xgboost.dask]:tcp://127.0.0.1:42061 got new rank 1\n",
      "[13:06:04] task [xgboost.dask]:tcp://127.0.0.1:35597 got new rank 2\n",
      "[13:06:04] task [xgboost.dask]:tcp://127.0.0.1:33229 got new rank 3\n",
      "\u001b[32m[I 2022-05-06 13:06:29,834]\u001b[0m Trial 3 finished with value: 0.8014853440330838 and parameters: {'objective': 'binary:logistic', 'tree_method': 'gpu_hist', 'lambda': 0.006064312596599403, 'alpha': 0.6721118765754535, 'colsample_bytree': 0.5587801067808802, 'subsample': 0.9845926761879992, 'learning_rate': 0.043820534062902525, 'max_depth': 9, 'min_child_weight': 45, 'eval_metric': 'logloss'}. Best is trial 3 with value: 0.8014853440330838.\u001b[0m\n",
      "[13:06:29] task [xgboost.dask]:tcp://127.0.0.1:42061 got new rank 0\n",
      "[13:06:29] task [xgboost.dask]:tcp://127.0.0.1:35527 got new rank 1\n",
      "[13:06:29] task [xgboost.dask]:tcp://127.0.0.1:35597 got new rank 2\n",
      "[13:06:29] task [xgboost.dask]:tcp://127.0.0.1:33229 got new rank 3\n",
      "\u001b[32m[I 2022-05-06 13:06:37,934]\u001b[0m Trial 4 finished with value: 0.7921628859415497 and parameters: {'objective': 'binary:logistic', 'tree_method': 'gpu_hist', 'lambda': 0.26194259339235154, 'alpha': 0.562822590428243, 'colsample_bytree': 0.5076290458773571, 'subsample': 0.9129579589564638, 'learning_rate': 0.0020868276001591458, 'max_depth': 3, 'min_child_weight': 165, 'eval_metric': 'logloss'}. Best is trial 3 with value: 0.8014853440330838.\u001b[0m\n",
      "[13:06:37] task [xgboost.dask]:tcp://127.0.0.1:42061 got new rank 0\n",
      "[13:06:37] task [xgboost.dask]:tcp://127.0.0.1:35597 got new rank 1\n",
      "[13:06:37] task [xgboost.dask]:tcp://127.0.0.1:33229 got new rank 2\n",
      "[13:06:37] task [xgboost.dask]:tcp://127.0.0.1:35527 got new rank 3\n",
      "\u001b[32m[I 2022-05-06 13:07:13,905]\u001b[0m Trial 5 finished with value: 0.8005674314170952 and parameters: {'objective': 'binary:logistic', 'tree_method': 'gpu_hist', 'lambda': 4.387358121129131, 'alpha': 3.672328761130922, 'colsample_bytree': 0.3403083342949926, 'subsample': 0.6609496770861356, 'learning_rate': 0.04523403971831331, 'max_depth': 11, 'min_child_weight': 54, 'eval_metric': 'logloss'}. Best is trial 3 with value: 0.8014853440330838.\u001b[0m\n",
      "[13:07:13] task [xgboost.dask]:tcp://127.0.0.1:35527 got new rank 0\n",
      "[13:07:13] task [xgboost.dask]:tcp://127.0.0.1:42061 got new rank 1\n",
      "[13:07:13] task [xgboost.dask]:tcp://127.0.0.1:35597 got new rank 2\n",
      "[13:07:13] task [xgboost.dask]:tcp://127.0.0.1:33229 got new rank 3\n",
      "\u001b[32m[I 2022-05-06 13:07:45,410]\u001b[0m Trial 6 finished with value: 0.8001860277778163 and parameters: {'objective': 'binary:logistic', 'tree_method': 'gpu_hist', 'lambda': 0.010345650696513744, 'alpha': 0.25005244654636427, 'colsample_bytree': 0.5165100971868153, 'subsample': 0.4422481009397352, 'learning_rate': 0.00974979132257344, 'max_depth': 15, 'min_child_weight': 81, 'eval_metric': 'logloss'}. Best is trial 3 with value: 0.8014853440330838.\u001b[0m\n"
     ]
    },
    {
     "name": "stdout",
     "output_type": "stream",
     "text": [
      "CPU times: user 12.3 s, sys: 2.75 s, total: 15.1 s\n",
      "Wall time: 1min 55s\n"
     ]
    },
    {
     "name": "stderr",
     "output_type": "stream",
     "text": [
      "/home/tunguz/.local/lib/python3.8/site-packages/dask_cuda/initialize.py:57: UserWarning: Worker with process ID 1097951 should have a CUDA context assigned to device GPU-a19c00c3-2832-fe38-1c43-c18db3e909da, but instead the CUDA context is on device 0. This is often the result of a CUDA-enabled library calling a CUDA runtime function before Dask-CUDA can spawn worker processes. Please make sure any such function calls don't happen at import time or in the global scope of a program.\n",
      "  warnings.warn(\n",
      "/home/tunguz/.local/lib/python3.8/site-packages/dask_cuda/initialize.py:57: UserWarning: Worker with process ID 1097954 should have a CUDA context assigned to device GPU-58b97c92-e879-49d3-85b5-1d9615f10873, but instead the CUDA context is on device 1. This is often the result of a CUDA-enabled library calling a CUDA runtime function before Dask-CUDA can spawn worker processes. Please make sure any such function calls don't happen at import time or in the global scope of a program.\n",
      "  warnings.warn(\n",
      "/home/tunguz/.local/lib/python3.8/site-packages/dask_cuda/initialize.py:57: UserWarning: Worker with process ID 1097955 should have a CUDA context assigned to device GPU-e3b349d7-ac6c-77ab-3564-ed9d05d50bac, but instead the CUDA context is on device 4. This is often the result of a CUDA-enabled library calling a CUDA runtime function before Dask-CUDA can spawn worker processes. Please make sure any such function calls don't happen at import time or in the global scope of a program.\n",
      "  warnings.warn(\n",
      "/home/tunguz/.local/lib/python3.8/site-packages/dask_cuda/initialize.py:57: UserWarning: Worker with process ID 1097958 should have a CUDA context assigned to device GPU-d21cfed4-2e1a-f313-839c-ea008aca027a, but instead the CUDA context is on device 2. This is often the result of a CUDA-enabled library calling a CUDA runtime function before Dask-CUDA can spawn worker processes. Please make sure any such function calls don't happen at import time or in the global scope of a program.\n",
      "  warnings.warn(\n"
     ]
    }
   ],
   "source": [
    "%%time\n",
    "study.optimize(objective, n_trials=5)"
   ]
  },
  {
   "cell_type": "code",
   "execution_count": null,
   "id": "b59aec9f-fb57-4714-b349-132a6b367910",
   "metadata": {},
   "outputs": [],
   "source": []
  }
 ],
 "metadata": {
  "kernelspec": {
   "display_name": "Python 3 (ipykernel)",
   "language": "python",
   "name": "python3"
  },
  "language_info": {
   "codemirror_mode": {
    "name": "ipython",
    "version": 3
   },
   "file_extension": ".py",
   "mimetype": "text/x-python",
   "name": "python",
   "nbconvert_exporter": "python",
   "pygments_lexer": "ipython3",
   "version": "3.8.10"
  }
 },
 "nbformat": 4,
 "nbformat_minor": 5
}
